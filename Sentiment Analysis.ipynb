{
 "cells": [
  {
   "cell_type": "code",
   "execution_count": 1,
   "id": "9155d424",
   "metadata": {},
   "outputs": [],
   "source": [
    "\n",
    "import gensim\n",
    "import gensim.corpora as corpora\n",
    "from gensim.utils import simple_preprocess\n",
    "from gensim.models import CoherenceModel\n"
   ]
  },
  {
   "cell_type": "code",
   "execution_count": 2,
   "id": "d5c5becc",
   "metadata": {},
   "outputs": [
    {
     "name": "stdout",
     "output_type": "stream",
     "text": [
      "                                                 Review Sentiment\n",
      "0     ✅ Trip Verified | This is a route I fly regula...  Positive\n",
      "1     ✅ Trip Verified |  While BA may have made some...  Negative\n",
      "2     ✅ Trip Verified | British Airways new Club Sui...  Positive\n",
      "3     ✅ Trip Verified |  Four very pleasant, on time...  Positive\n",
      "4     Not Verified |   We travel extensively over 25...  Positive\n",
      "...                                                 ...       ...\n",
      "3461  Route: Heathrow - Toronto First Class daytime ...  Positive\n",
      "3462  LGW to SZG. Absolutely useless for a scheduled...  Positive\n",
      "3463  BA92 4/10/14 YYZ-LHR B787 G-ZBJE. If you want ...  Positive\n",
      "3464  Very comfortable return flight to Hannover in ...  Positive\n",
      "3465  Just took British from London to Seattle. Tire...  Negative\n",
      "\n",
      "[3466 rows x 2 columns]\n"
     ]
    }
   ],
   "source": [
    "import pandas as pd\n",
    "from textblob import TextBlob\n",
    "import re\n",
    "\n",
    "\n",
    "\n",
    "# Sample data (assuming you have it loaded into a DataFrame)\n",
    "df=pd.read_csv(r'E:\\learn\\british_text_review1.csv')\n",
    "# Function to clean text\n",
    "def clean_text(text):\n",
    "    text = re.sub(r'\\W+', ' ', text.lower())  # Remove non-alphanumeric characters and convert to lowercase\n",
    "    return text.strip()\n",
    "\n",
    "# Clean the review text\n",
    "df['Cleaned_Review'] = df['Review'].apply(clean_text)\n",
    "\n",
    "# Function to get sentiment using TextBlob\n",
    "def get_sentiment(text):\n",
    "    analysis = TextBlob(text)\n",
    "    if analysis.sentiment.polarity > 0:\n",
    "        return 'Positive'\n",
    "    elif analysis.sentiment.polarity == 0:\n",
    "        return 'Neutral'\n",
    "    else:\n",
    "        return 'Negative'\n",
    "\n",
    "# Apply sentiment analysis to each review\n",
    "df['Sentiment'] = df['Cleaned_Review'].apply(get_sentiment)\n",
    "\n",
    "# Display the results\n",
    "print(df[['Review', 'Sentiment']])\n"
   ]
  },
  {
   "cell_type": "code",
   "execution_count": null,
   "id": "7ca2dfb0",
   "metadata": {},
   "outputs": [],
   "source": []
  },
  {
   "cell_type": "code",
   "execution_count": null,
   "id": "c4141ece",
   "metadata": {},
   "outputs": [],
   "source": []
  },
  {
   "cell_type": "code",
   "execution_count": null,
   "id": "97738d22",
   "metadata": {},
   "outputs": [],
   "source": []
  }
 ],
 "metadata": {
  "kernelspec": {
   "display_name": "Python 3 (ipykernel)",
   "language": "python",
   "name": "python3"
  },
  "language_info": {
   "codemirror_mode": {
    "name": "ipython",
    "version": 3
   },
   "file_extension": ".py",
   "mimetype": "text/x-python",
   "name": "python",
   "nbconvert_exporter": "python",
   "pygments_lexer": "ipython3",
   "version": "3.11.5"
  }
 },
 "nbformat": 4,
 "nbformat_minor": 5
}
