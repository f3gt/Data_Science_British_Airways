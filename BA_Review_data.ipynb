{
 "cells": [
  {
   "cell_type": "code",
   "execution_count": 22,
   "id": "2358991a",
   "metadata": {},
   "outputs": [],
   "source": [
    "from bs4 import BeautifulSoup\n",
    "import requests\n",
    "import pandas as pd"
   ]
  },
  {
   "cell_type": "code",
   "execution_count": 86,
   "id": "dd3e1a3c",
   "metadata": {},
   "outputs": [],
   "source": [
    "base_url=\"https://www.airlinequality.com/airline-reviews/british-airways\" \n",
    "page=requests.get(url)\n",
    "soup=BeautifulSoup(page.content,'html')"
   ]
  },
  {
   "cell_type": "code",
   "execution_count": 137,
   "id": "f8edc3c9",
   "metadata": {},
   "outputs": [],
   "source": [
    "date=[]\n",
    "name=[]\n",
    "review=[]\n",
    "location=[]\n",
    "recommended=[]\n",
    "stars=[]\n"
   ]
  },
  {
   "cell_type": "code",
   "execution_count": 138,
   "id": "aee8df74",
   "metadata": {
    "scrolled": true
   },
   "outputs": [
    {
     "name": "stdout",
     "output_type": "stream",
     "text": [
      "https://www.airlinequality.com/airline-reviews/british-airways/page/<Response [200]>\n",
      "https://www.airlinequality.com/airline-reviews/british-airways/page/<Response [200]>\n",
      "https://www.airlinequality.com/airline-reviews/british-airways/page/<Response [200]>\n",
      "https://www.airlinequality.com/airline-reviews/british-airways/page/<Response [200]>\n",
      "https://www.airlinequality.com/airline-reviews/british-airways/page/<Response [200]>\n",
      "https://www.airlinequality.com/airline-reviews/british-airways/page/<Response [200]>\n",
      "https://www.airlinequality.com/airline-reviews/british-airways/page/<Response [200]>\n",
      "https://www.airlinequality.com/airline-reviews/british-airways/page/<Response [200]>\n",
      "https://www.airlinequality.com/airline-reviews/british-airways/page/<Response [200]>\n",
      "https://www.airlinequality.com/airline-reviews/british-airways/page/<Response [200]>\n",
      "https://www.airlinequality.com/airline-reviews/british-airways/page/<Response [200]>\n",
      "https://www.airlinequality.com/airline-reviews/british-airways/page/<Response [200]>\n",
      "https://www.airlinequality.com/airline-reviews/british-airways/page/<Response [200]>\n",
      "https://www.airlinequality.com/airline-reviews/british-airways/page/<Response [200]>\n",
      "https://www.airlinequality.com/airline-reviews/british-airways/page/<Response [200]>\n",
      "https://www.airlinequality.com/airline-reviews/british-airways/page/<Response [200]>\n",
      "https://www.airlinequality.com/airline-reviews/british-airways/page/<Response [200]>\n",
      "https://www.airlinequality.com/airline-reviews/british-airways/page/<Response [200]>\n",
      "https://www.airlinequality.com/airline-reviews/british-airways/page/<Response [200]>\n",
      "https://www.airlinequality.com/airline-reviews/british-airways/page/<Response [200]>\n",
      "https://www.airlinequality.com/airline-reviews/british-airways/page/<Response [200]>\n",
      "https://www.airlinequality.com/airline-reviews/british-airways/page/<Response [200]>\n",
      "https://www.airlinequality.com/airline-reviews/british-airways/page/<Response [200]>\n",
      "https://www.airlinequality.com/airline-reviews/british-airways/page/<Response [200]>\n",
      "https://www.airlinequality.com/airline-reviews/british-airways/page/<Response [200]>\n",
      "https://www.airlinequality.com/airline-reviews/british-airways/page/<Response [200]>\n",
      "https://www.airlinequality.com/airline-reviews/british-airways/page/<Response [200]>\n",
      "https://www.airlinequality.com/airline-reviews/british-airways/page/<Response [200]>\n",
      "https://www.airlinequality.com/airline-reviews/british-airways/page/<Response [200]>\n",
      "https://www.airlinequality.com/airline-reviews/british-airways/page/<Response [200]>\n",
      "https://www.airlinequality.com/airline-reviews/british-airways/page/<Response [200]>\n",
      "https://www.airlinequality.com/airline-reviews/british-airways/page/<Response [200]>\n",
      "https://www.airlinequality.com/airline-reviews/british-airways/page/<Response [200]>\n",
      "https://www.airlinequality.com/airline-reviews/british-airways/page/<Response [200]>\n",
      "https://www.airlinequality.com/airline-reviews/british-airways/page/<Response [200]>\n"
     ]
    }
   ],
   "source": [
    "num_page=36\n",
    "\n",
    "for i in range(1,36):\n",
    "    page = requests.get(f\"https://www.airlinequality.com/airline-reviews/british-airways/page/{i}/?sortby=post_date%3ADesc&pagesize=100\")\n",
    "    print(f\"{url}/page/{page}\")\n",
    "    soup=BeautifulSoup(page.content,'html')\n",
    "\n",
    "    for review_date in soup.find_all('time'):\n",
    "        date.append(review_date.text)\n",
    "        \n",
    "    for item in soup.find_all('span' ,itemprop=\"ratingValue\"):\n",
    "        stars.append(item.text)\n",
    "    \n",
    "    for item in soup.find_all('span' ,itemprop=\"name\"):\n",
    "        name.append(item.text)\n",
    "\n",
    "    for item in soup.find_all('div', itemprop=\"reviewBody\" ):\n",
    "        review.append(item.text)\n",
    "\n",
    "    for item in soup.find_all(\"h3\"):\n",
    "        location.append(item.span.next_sibling.text.strip(\" ()\"))\n",
    "\n",
    "    for item in soup.find_all('td', class_=\"review-value\"):\n",
    "        if 'rating-yes' in item['class']:\n",
    "            recommended.append(\"Yes\")\n",
    "        elif 'rating-no' in item['class']:\n",
    "            recommended.append(\"No\")\n",
    "\n",
    "\n",
    "\n",
    "  "
   ]
  },
  {
   "cell_type": "code",
   "execution_count": null,
   "id": "9e29a1f1",
   "metadata": {},
   "outputs": [],
   "source": []
  },
  {
   "cell_type": "code",
   "execution_count": 80,
   "id": "21af5d2c",
   "metadata": {},
   "outputs": [],
   "source": [
    "for item in soup.find_all('span' ,itemprop=\"ratingValue\"):\n",
    "    stars.append(item.text)"
   ]
  },
  {
   "cell_type": "code",
   "execution_count": 115,
   "id": "6a3c4b22",
   "metadata": {},
   "outputs": [],
   "source": []
  },
  {
   "cell_type": "code",
   "execution_count": 139,
   "id": "12d7781b",
   "metadata": {},
   "outputs": [
    {
     "data": {
      "text/plain": [
       "3532"
      ]
     },
     "execution_count": 139,
     "metadata": {},
     "output_type": "execute_result"
    }
   ],
   "source": [
    "len(stars)"
   ]
  },
  {
   "cell_type": "code",
   "execution_count": 142,
   "id": "62365ca9",
   "metadata": {},
   "outputs": [],
   "source": [
    "stars=stars[:3500]"
   ]
  },
  {
   "cell_type": "code",
   "execution_count": 143,
   "id": "84504221",
   "metadata": {},
   "outputs": [
    {
     "data": {
      "text/plain": [
       "3500"
      ]
     },
     "execution_count": 143,
     "metadata": {},
     "output_type": "execute_result"
    }
   ],
   "source": [
    "len(name)"
   ]
  },
  {
   "cell_type": "code",
   "execution_count": 144,
   "id": "3fb8c30d",
   "metadata": {},
   "outputs": [
    {
     "data": {
      "text/plain": [
       "3500"
      ]
     },
     "execution_count": 144,
     "metadata": {},
     "output_type": "execute_result"
    }
   ],
   "source": [
    "len(stars)"
   ]
  },
  {
   "cell_type": "code",
   "execution_count": null,
   "id": "a2bfd67e",
   "metadata": {},
   "outputs": [],
   "source": []
  },
  {
   "cell_type": "code",
   "execution_count": 148,
   "id": "9dec3b6b",
   "metadata": {},
   "outputs": [],
   "source": [
    "df1=pd.DataFrame({\"Name\":name,\"Location\":location,\"Date\":date,\"Review\":review,\"Recommend\":recommended,\"Star_Rating\":stars})"
   ]
  },
  {
   "cell_type": "code",
   "execution_count": 150,
   "id": "392d6742",
   "metadata": {},
   "outputs": [
    {
     "data": {
      "text/html": [
       "<div>\n",
       "<style scoped>\n",
       "    .dataframe tbody tr th:only-of-type {\n",
       "        vertical-align: middle;\n",
       "    }\n",
       "\n",
       "    .dataframe tbody tr th {\n",
       "        vertical-align: top;\n",
       "    }\n",
       "\n",
       "    .dataframe thead th {\n",
       "        text-align: right;\n",
       "    }\n",
       "</style>\n",
       "<table border=\"1\" class=\"dataframe\">\n",
       "  <thead>\n",
       "    <tr style=\"text-align: right;\">\n",
       "      <th></th>\n",
       "      <th>Name</th>\n",
       "      <th>Location</th>\n",
       "      <th>Date</th>\n",
       "      <th>Review</th>\n",
       "      <th>Recommend</th>\n",
       "      <th>Star_Rating</th>\n",
       "    </tr>\n",
       "  </thead>\n",
       "  <tbody>\n",
       "    <tr>\n",
       "      <th>0</th>\n",
       "      <td>R Thornton</td>\n",
       "      <td>United Kingdom</td>\n",
       "      <td>26th June 2024</td>\n",
       "      <td>✅ Trip Verified | This is a route I fly regula...</td>\n",
       "      <td>Yes</td>\n",
       "      <td>\\n\\t\\t\\t\\t\\t\\t\\t\\t\\t\\t\\t\\t\\t5</td>\n",
       "    </tr>\n",
       "    <tr>\n",
       "      <th>1</th>\n",
       "      <td>J Fang</td>\n",
       "      <td>Canada</td>\n",
       "      <td>23rd June 2024</td>\n",
       "      <td>✅ Trip Verified |  While BA may have made some...</td>\n",
       "      <td>No</td>\n",
       "      <td>6</td>\n",
       "    </tr>\n",
       "    <tr>\n",
       "      <th>2</th>\n",
       "      <td>J Fang</td>\n",
       "      <td>Canada</td>\n",
       "      <td>23rd June 2024</td>\n",
       "      <td>✅ Trip Verified | British Airways new Club Sui...</td>\n",
       "      <td>No</td>\n",
       "      <td>3</td>\n",
       "    </tr>\n",
       "    <tr>\n",
       "      <th>3</th>\n",
       "      <td>Caleb Lowe</td>\n",
       "      <td>United Kingdom</td>\n",
       "      <td>18th June 2024</td>\n",
       "      <td>✅ Trip Verified |  Four very pleasant, on time...</td>\n",
       "      <td>Yes</td>\n",
       "      <td>5</td>\n",
       "    </tr>\n",
       "    <tr>\n",
       "      <th>4</th>\n",
       "      <td>N Thomas</td>\n",
       "      <td>United Kingdom</td>\n",
       "      <td>18th June 2024</td>\n",
       "      <td>Not Verified |   We travel extensively over 25...</td>\n",
       "      <td>No</td>\n",
       "      <td>9</td>\n",
       "    </tr>\n",
       "    <tr>\n",
       "      <th>...</th>\n",
       "      <td>...</td>\n",
       "      <td>...</td>\n",
       "      <td>...</td>\n",
       "      <td>...</td>\n",
       "      <td>...</td>\n",
       "      <td>...</td>\n",
       "    </tr>\n",
       "    <tr>\n",
       "      <th>3495</th>\n",
       "      <td>G Clement</td>\n",
       "      <td>United Kingdom</td>\n",
       "      <td>12th October 2014</td>\n",
       "      <td>Route: Heathrow - Toronto First Class daytime ...</td>\n",
       "      <td>Yes</td>\n",
       "      <td>5</td>\n",
       "    </tr>\n",
       "    <tr>\n",
       "      <th>3496</th>\n",
       "      <td>G Gibb</td>\n",
       "      <td>United Kingdom</td>\n",
       "      <td>8th October 2014</td>\n",
       "      <td>LGW to SZG. Absolutely useless for a scheduled...</td>\n",
       "      <td>No</td>\n",
       "      <td>8</td>\n",
       "    </tr>\n",
       "    <tr>\n",
       "      <th>3497</th>\n",
       "      <td>G Boyle</td>\n",
       "      <td>United Kingdom</td>\n",
       "      <td>8th October 2014</td>\n",
       "      <td>BA92 4/10/14 YYZ-LHR B787 G-ZBJE. If you want ...</td>\n",
       "      <td>No</td>\n",
       "      <td>6</td>\n",
       "    </tr>\n",
       "    <tr>\n",
       "      <th>3498</th>\n",
       "      <td>Guy Senior</td>\n",
       "      <td>United Kingdom</td>\n",
       "      <td>8th October 2014</td>\n",
       "      <td>Very comfortable return flight to Hannover in ...</td>\n",
       "      <td>Yes</td>\n",
       "      <td>3</td>\n",
       "    </tr>\n",
       "    <tr>\n",
       "      <th>3499</th>\n",
       "      <td>J Hill</td>\n",
       "      <td>United States</td>\n",
       "      <td>8th October 2014</td>\n",
       "      <td>Just took British from London to Seattle. Tire...</td>\n",
       "      <td>No</td>\n",
       "      <td>3</td>\n",
       "    </tr>\n",
       "  </tbody>\n",
       "</table>\n",
       "<p>3500 rows × 6 columns</p>\n",
       "</div>"
      ],
      "text/plain": [
       "            Name        Location               Date  \\\n",
       "0     R Thornton  United Kingdom     26th June 2024   \n",
       "1         J Fang          Canada     23rd June 2024   \n",
       "2        J Fang           Canada     23rd June 2024   \n",
       "3     Caleb Lowe  United Kingdom     18th June 2024   \n",
       "4       N Thomas  United Kingdom     18th June 2024   \n",
       "...          ...             ...                ...   \n",
       "3495   G Clement  United Kingdom  12th October 2014   \n",
       "3496      G Gibb  United Kingdom   8th October 2014   \n",
       "3497     G Boyle  United Kingdom   8th October 2014   \n",
       "3498  Guy Senior  United Kingdom   8th October 2014   \n",
       "3499      J Hill   United States   8th October 2014   \n",
       "\n",
       "                                                 Review Recommend  \\\n",
       "0     ✅ Trip Verified | This is a route I fly regula...       Yes   \n",
       "1     ✅ Trip Verified |  While BA may have made some...        No   \n",
       "2     ✅ Trip Verified | British Airways new Club Sui...        No   \n",
       "3     ✅ Trip Verified |  Four very pleasant, on time...       Yes   \n",
       "4     Not Verified |   We travel extensively over 25...        No   \n",
       "...                                                 ...       ...   \n",
       "3495  Route: Heathrow - Toronto First Class daytime ...       Yes   \n",
       "3496  LGW to SZG. Absolutely useless for a scheduled...        No   \n",
       "3497  BA92 4/10/14 YYZ-LHR B787 G-ZBJE. If you want ...        No   \n",
       "3498  Very comfortable return flight to Hannover in ...       Yes   \n",
       "3499  Just took British from London to Seattle. Tire...        No   \n",
       "\n",
       "                        Star_Rating  \n",
       "0     \\n\\t\\t\\t\\t\\t\\t\\t\\t\\t\\t\\t\\t\\t5  \n",
       "1                                 6  \n",
       "2                                 3  \n",
       "3                                 5  \n",
       "4                                 9  \n",
       "...                             ...  \n",
       "3495                              5  \n",
       "3496                              8  \n",
       "3497                              6  \n",
       "3498                              3  \n",
       "3499                              3  \n",
       "\n",
       "[3500 rows x 6 columns]"
      ]
     },
     "execution_count": 150,
     "metadata": {},
     "output_type": "execute_result"
    }
   ],
   "source": [
    "df1"
   ]
  },
  {
   "cell_type": "code",
   "execution_count": 151,
   "id": "04ee8c9c",
   "metadata": {},
   "outputs": [],
   "source": [
    "df.to_csv(r'E:\\learn\\british_text_review1.csv',index=False)"
   ]
  }
 ],
 "metadata": {
  "kernelspec": {
   "display_name": "Python 3 (ipykernel)",
   "language": "python",
   "name": "python3"
  },
  "language_info": {
   "codemirror_mode": {
    "name": "ipython",
    "version": 3
   },
   "file_extension": ".py",
   "mimetype": "text/x-python",
   "name": "python",
   "nbconvert_exporter": "python",
   "pygments_lexer": "ipython3",
   "version": "3.11.5"
  }
 },
 "nbformat": 4,
 "nbformat_minor": 5
}
